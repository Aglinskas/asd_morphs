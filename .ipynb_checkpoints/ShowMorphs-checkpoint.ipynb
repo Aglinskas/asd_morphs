{
 "cells": [
  {
   "cell_type": "code",
   "execution_count": 42,
   "metadata": {},
   "outputs": [],
   "source": [
    "from __future__ import print_function\n",
    "\n",
    "import os \n",
    "\n",
    "import matplotlib.image as mpimg\n",
    "import matplotlib.pyplot as plt\n",
    "\n",
    "import ipywidgets as widgets\n",
    "from ipywidgets import interact, interactive, fixed, interact_manual,FloatSlider, IntSlider,RadioButtons, Dropdown\n",
    "\n",
    "import pickle\n",
    "import requests\n",
    "\n",
    "from io import BytesIO\n",
    "#import cloudpickle as cp"
   ]
  },
  {
   "cell_type": "code",
   "execution_count": 4,
   "metadata": {},
   "outputs": [],
   "source": [
    "# from PIL import Image\n",
    "# im = Image.open('/Users/aidasaglinskas/Desktop/morps/figures/5/B_5.gif')"
   ]
  },
  {
   "cell_type": "code",
   "execution_count": 41,
   "metadata": {},
   "outputs": [
    {
     "name": "stdout",
     "output_type": "stream",
     "text": [
      "CPU times: user 2 µs, sys: 1 µs, total: 3 µs\n",
      "Wall time: 3.81 µs\n"
     ]
    }
   ],
   "source": [
    "%%time\n",
    "process_data = False\n",
    "\n",
    "if process_data:\n",
    "    \n",
    "    keys = ['L','R','T','B','center']\n",
    "    files = ['0.00.png', '0.50.png', '1.00.png', '2.00.png', '5.00.png','10.00.png']\n",
    "\n",
    "    data = dict()\n",
    "    sz = 10\n",
    "    for fldr in keys:\n",
    "        temp = list()\n",
    "        for i in range(len(files)):\n",
    "            arr = mpimg.imread(os.path.join(fldr,files[i]))\n",
    "            arr = arr[0::sz,0::sz,:]\n",
    "            #arr = arr[300:600,100:800,:]\n",
    "            arr = arr[150:300,50:400,:]\n",
    "            temp.append(arr)\n",
    "        data[fldr]=temp\n",
    "    pickle.dump(data,open('data.pickle','wb'))"
   ]
  },
  {
   "cell_type": "code",
   "execution_count": 43,
   "metadata": {},
   "outputs": [],
   "source": [
    "url = 'https://github.com/Aglinskas/asd_morphs/raw/main/data.pickle'\n",
    "cloudfile = BytesIO(requests.get(url).content)\n",
    "data = pickle.load(cloudfile)"
   ]
  },
  {
   "cell_type": "code",
   "execution_count": null,
   "metadata": {},
   "outputs": [],
   "source": []
  },
  {
   "cell_type": "code",
   "execution_count": 27,
   "metadata": {},
   "outputs": [
    {
     "data": {
      "application/vnd.jupyter.widget-view+json": {
       "model_id": "502cca6047544d7fa0b9dfa03261bb59",
       "version_major": 2,
       "version_minor": 0
      },
      "text/plain": [
       "interactive(children=(Dropdown(description='Corner:', index=4, options=('L', 'R', 'T', 'B', 'center'), value='…"
      ]
     },
     "metadata": {},
     "output_type": "display_data"
    }
   ],
   "source": [
    "@interact(corner=widgets.Dropdown(options=keys,index=4,description='Corner:',disabled=False), i=widgets.IntSlider(min=0,max=5,step=1,description='Slider:',value=0))\n",
    "def g1(corner,i):\n",
    "    plt.figure(figsize=(15,5))\n",
    "    plt.imshow(data[corner][i])\n",
    "    print(f'{corner} | {i}')\n",
    "    plt.axis('off')"
   ]
  },
  {
   "cell_type": "code",
   "execution_count": 7,
   "metadata": {},
   "outputs": [
    {
     "data": {
      "application/vnd.jupyter.widget-view+json": {
       "model_id": "b1e38244f44b424eb9266706d1545ff1",
       "version_major": 2,
       "version_minor": 0
      },
      "text/plain": [
       "interactive(children=(Dropdown(description='Corner:', options=('L', 'R', 'T', 'B', 'center'), value='L'), IntS…"
      ]
     },
     "metadata": {},
     "output_type": "display_data"
    }
   ],
   "source": [
    "@interact(corner=widgets.Dropdown(options=keys,index=0,description='Corner:',disabled=False), i=widgets.IntSlider(min=0,max=5,step=1,description='Slider:',value=0))\n",
    "def g1(corner,i):\n",
    "    plt.figure(figsize=(15,5))\n",
    "    plt.imshow(data[corner][i])\n",
    "    print(f'{corner} | {i}')\n",
    "    plt.axis('off')"
   ]
  },
  {
   "cell_type": "code",
   "execution_count": 8,
   "metadata": {},
   "outputs": [
    {
     "data": {
      "application/vnd.jupyter.widget-view+json": {
       "model_id": "c0e396b74db84c9db34d96b911308b9c",
       "version_major": 2,
       "version_minor": 0
      },
      "text/plain": [
       "interactive(children=(Dropdown(description='Corner:', index=1, options=('L', 'R', 'T', 'B', 'center'), value='…"
      ]
     },
     "metadata": {},
     "output_type": "display_data"
    }
   ],
   "source": [
    "@interact(corner=widgets.Dropdown(options=keys,index=1,description='Corner:',disabled=False), i=widgets.IntSlider(min=0,max=5,step=1,description='Slider:',value=0))\n",
    "def g1(corner,i):\n",
    "    plt.figure(figsize=(15,5))\n",
    "    plt.imshow(data[corner][i])\n",
    "    print(f'{corner} | {i}')\n",
    "    plt.axis('off')"
   ]
  },
  {
   "cell_type": "code",
   "execution_count": 9,
   "metadata": {},
   "outputs": [
    {
     "data": {
      "application/vnd.jupyter.widget-view+json": {
       "model_id": "4529e51f42d9411b8cfbcf726f2c4467",
       "version_major": 2,
       "version_minor": 0
      },
      "text/plain": [
       "interactive(children=(Dropdown(description='Corner:', index=2, options=('L', 'R', 'T', 'B', 'center'), value='…"
      ]
     },
     "metadata": {},
     "output_type": "display_data"
    }
   ],
   "source": [
    "@interact(corner=widgets.Dropdown(options=keys,index=2,description='Corner:',disabled=False), i=widgets.IntSlider(min=0,max=5,step=1,description='Slider:',value=0))\n",
    "def g1(corner,i):\n",
    "    plt.figure(figsize=(15,5))\n",
    "    plt.imshow(data[corner][i])\n",
    "    print(f'{corner} | {i}')\n",
    "    plt.axis('off')"
   ]
  },
  {
   "cell_type": "code",
   "execution_count": 10,
   "metadata": {},
   "outputs": [
    {
     "data": {
      "application/vnd.jupyter.widget-view+json": {
       "model_id": "d80fdf52095e4da9b9a0d32637bb9859",
       "version_major": 2,
       "version_minor": 0
      },
      "text/plain": [
       "interactive(children=(Dropdown(description='Corner:', index=3, options=('L', 'R', 'T', 'B', 'center'), value='…"
      ]
     },
     "metadata": {},
     "output_type": "display_data"
    }
   ],
   "source": [
    "@interact(corner=widgets.Dropdown(options=keys,index=3,description='Corner:',disabled=False), i=widgets.IntSlider(min=0,max=5,step=1,description='Slider:',value=0))\n",
    "def g1(corner,i):\n",
    "    plt.figure(figsize=(15,5))\n",
    "    plt.imshow(data[corner][i])\n",
    "    print(f'{corner} | {i}')\n",
    "    plt.axis('off')"
   ]
  },
  {
   "cell_type": "code",
   "execution_count": null,
   "metadata": {},
   "outputs": [],
   "source": []
  },
  {
   "cell_type": "code",
   "execution_count": null,
   "metadata": {},
   "outputs": [],
   "source": []
  },
  {
   "cell_type": "code",
   "execution_count": null,
   "metadata": {},
   "outputs": [],
   "source": []
  }
 ],
 "metadata": {
  "kernelspec": {
   "display_name": "Python 3",
   "language": "python",
   "name": "python3"
  },
  "language_info": {
   "codemirror_mode": {
    "name": "ipython",
    "version": 3
   },
   "file_extension": ".py",
   "mimetype": "text/x-python",
   "name": "python",
   "nbconvert_exporter": "python",
   "pygments_lexer": "ipython3",
   "version": "3.7.7"
  }
 },
 "nbformat": 4,
 "nbformat_minor": 4
}
