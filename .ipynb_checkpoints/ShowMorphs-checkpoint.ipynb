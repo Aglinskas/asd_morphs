{
 "cells": [
  {
   "cell_type": "code",
   "execution_count": 1,
   "metadata": {},
   "outputs": [],
   "source": [
    "import os \n",
    "\n",
    "import matplotlib.image as mpimg\n",
    "import matplotlib.pyplot as plt\n",
    "\n",
    "import ipywidgets as widgets\n",
    "from ipywidgets import interact, interact_manual\n",
    "\n",
    "from __future__ import print_function\n",
    "from ipywidgets import interact, interactive, fixed, interact_manual\n",
    "import ipywidgets as widgets\n",
    "from ipywidgets import interact, FloatSlider, IntSlider,RadioButtons, Dropdown"
   ]
  },
  {
   "cell_type": "code",
   "execution_count": 2,
   "metadata": {},
   "outputs": [],
   "source": []
  },
  {
   "cell_type": "code",
   "execution_count": 3,
   "metadata": {},
   "outputs": [],
   "source": []
  },
  {
   "cell_type": "code",
   "execution_count": 5,
   "metadata": {},
   "outputs": [],
   "source": [
    "from PIL import Image\n",
    "im = Image.open('/Users/aidasaglinskas/Desktop/morps/figures/5/B_5.gif')"
   ]
  },
  {
   "cell_type": "code",
   "execution_count": 9,
   "metadata": {},
   "outputs": [
    {
     "name": "stdout",
     "output_type": "stream",
     "text": [
      "CPU times: user 15.4 s, sys: 4.29 s, total: 19.7 s\n",
      "Wall time: 20.1 s\n"
     ]
    }
   ],
   "source": [
    "%%time\n",
    "\n",
    "keys = ['L','R','T','B','center']\n",
    "files = ['0.00.png', '0.50.png', '1.00.png', '2.00.png', '5.00.png','10.00.png']\n",
    "\n",
    "\n",
    "data = dict()\n",
    "for fldr in keys:\n",
    "    temp = list()\n",
    "    for i in range(len(files)):\n",
    "        arr = mpimg.imread(os.path.join(fldr,files[i]))\n",
    "        arr = arr[0::5,0::5,:]\n",
    "        arr = arr[300:600,100:800,:]\n",
    "        temp.append(arr)\n",
    "    data[fldr]=temp"
   ]
  },
  {
   "cell_type": "code",
   "execution_count": 10,
   "metadata": {},
   "outputs": [],
   "source": []
  },
  {
   "cell_type": "code",
   "execution_count": 11,
   "metadata": {},
   "outputs": [],
   "source": [
    "def f(x):\n",
    "    fig = plt.figure(figsize=(15,5))\n",
    "    plt.imshow(R[x])\n",
    "    plt.axis('off')"
   ]
  },
  {
   "cell_type": "code",
   "execution_count": 26,
   "metadata": {},
   "outputs": [
    {
     "data": {
      "text/plain": [
       "\u001b[0;31mInit signature:\u001b[0m \u001b[0mDropdown\u001b[0m\u001b[0;34m(\u001b[0m\u001b[0;34m*\u001b[0m\u001b[0margs\u001b[0m\u001b[0;34m,\u001b[0m \u001b[0;34m**\u001b[0m\u001b[0mkwargs\u001b[0m\u001b[0;34m)\u001b[0m\u001b[0;34m\u001b[0m\u001b[0;34m\u001b[0m\u001b[0m\n",
       "\u001b[0;31mDocstring:\u001b[0m     \n",
       "Allows you to select a single item from a dropdown.\n",
       "\n",
       "Parameters\n",
       "----------\n",
       "options: list\n",
       "    The options for the dropdown. This can either be a list of values, e.g.\n",
       "    ``['Galileo', 'Brahe', 'Hubble']`` or ``[0, 1, 2]``, or a list of\n",
       "    (label, value) pairs, e.g.\n",
       "    ``[('Galileo', 0), ('Brahe', 1), ('Hubble', 2)]``.\n",
       "\n",
       "index: int\n",
       "    The index of the current selection.\n",
       "\n",
       "value: any\n",
       "    The value of the current selection. When programmatically setting the\n",
       "    value, a reverse lookup is performed among the options to check that\n",
       "    the value is valid. The reverse lookup uses the equality operator by\n",
       "    default, but another predicate may be provided via the ``equals``\n",
       "    keyword argument. For example, when dealing with numpy arrays, one may\n",
       "    set ``equals=np.array_equal``.\n",
       "\n",
       "label: str\n",
       "    The label corresponding to the selected value.\n",
       "\n",
       "disabled: bool\n",
       "    Whether to disable user changes.\n",
       "\n",
       "description: str\n",
       "    Label for this input group. This should be a string\n",
       "    describing the widget.\n",
       "\u001b[0;31mInit docstring:\u001b[0m Public constructor\n",
       "\u001b[0;31mFile:\u001b[0m           ~/opt/anaconda3/envs/py4/lib/python3.7/site-packages/ipywidgets/widgets/widget_selection.py\n",
       "\u001b[0;31mType:\u001b[0m           MetaHasTraits\n",
       "\u001b[0;31mSubclasses:\u001b[0m     \n"
      ]
     },
     "metadata": {},
     "output_type": "display_data"
    }
   ],
   "source": [
    "Dropdown?"
   ]
  },
  {
   "cell_type": "code",
   "execution_count": null,
   "metadata": {},
   "outputs": [],
   "source": []
  },
  {
   "cell_type": "code",
   "execution_count": null,
   "metadata": {},
   "outputs": [],
   "source": []
  },
  {
   "cell_type": "code",
   "execution_count": 49,
   "metadata": {},
   "outputs": [
    {
     "data": {
      "application/vnd.jupyter.widget-view+json": {
       "model_id": "c2adf6cf17cf4d2a8f3fd4ecb269f7c2",
       "version_major": 2,
       "version_minor": 0
      },
      "text/plain": [
       "interactive(children=(Dropdown(description='Corner:', index=4, options=('L', 'R', 'T', 'B', 'center'), value='…"
      ]
     },
     "metadata": {},
     "output_type": "display_data"
    }
   ],
   "source": [
    "@interact(corner=widgets.Dropdown(options=keys,index=4,description='Corner:',disabled=False), i=widgets.IntSlider(min=0,max=5,step=1,description='Slider:',value=0))\n",
    "def g1(corner,i):\n",
    "    plt.figure(figsize=(15,5))\n",
    "    plt.imshow(data[corner][i])\n",
    "    print(f'{corner} | {i}')\n",
    "    plt.axis('off')"
   ]
  },
  {
   "cell_type": "code",
   "execution_count": 44,
   "metadata": {},
   "outputs": [
    {
     "data": {
      "application/vnd.jupyter.widget-view+json": {
       "model_id": "211ca5dcf5ad4be2b3258157f969b9c9",
       "version_major": 2,
       "version_minor": 0
      },
      "text/plain": [
       "interactive(children=(Dropdown(description='Corner:', options=('L', 'R', 'T', 'B', 'center'), value='L'), IntS…"
      ]
     },
     "metadata": {},
     "output_type": "display_data"
    }
   ],
   "source": [
    "@interact(corner=widgets.Dropdown(options=keys,index=0,description='Corner:',disabled=False), i=widgets.IntSlider(min=0,max=5,step=1,description='Slider:',value=0))\n",
    "def g1(corner,i):\n",
    "    plt.figure(figsize=(15,5))\n",
    "    plt.imshow(data[corner][i])\n",
    "    print(f'{corner} | {i}')\n",
    "    plt.axis('off')"
   ]
  },
  {
   "cell_type": "code",
   "execution_count": 45,
   "metadata": {},
   "outputs": [
    {
     "data": {
      "application/vnd.jupyter.widget-view+json": {
       "model_id": "cde801dc55704259a0b7f6af3d5e1723",
       "version_major": 2,
       "version_minor": 0
      },
      "text/plain": [
       "interactive(children=(Dropdown(description='Corner:', index=1, options=('L', 'R', 'T', 'B', 'center'), value='…"
      ]
     },
     "metadata": {},
     "output_type": "display_data"
    }
   ],
   "source": [
    "@interact(corner=widgets.Dropdown(options=keys,index=1,description='Corner:',disabled=False), i=widgets.IntSlider(min=0,max=5,step=1,description='Slider:',value=0))\n",
    "def g1(corner,i):\n",
    "    plt.figure(figsize=(15,5))\n",
    "    plt.imshow(data[corner][i])\n",
    "    print(f'{corner} | {i}')\n",
    "    plt.axis('off')"
   ]
  },
  {
   "cell_type": "code",
   "execution_count": 46,
   "metadata": {},
   "outputs": [
    {
     "data": {
      "application/vnd.jupyter.widget-view+json": {
       "model_id": "4ee7401586274776a048ab3d37bb50a4",
       "version_major": 2,
       "version_minor": 0
      },
      "text/plain": [
       "interactive(children=(Dropdown(description='Corner:', index=2, options=('L', 'R', 'T', 'B', 'center'), value='…"
      ]
     },
     "metadata": {},
     "output_type": "display_data"
    }
   ],
   "source": [
    "@interact(corner=widgets.Dropdown(options=keys,index=2,description='Corner:',disabled=False), i=widgets.IntSlider(min=0,max=5,step=1,description='Slider:',value=0))\n",
    "def g1(corner,i):\n",
    "    plt.figure(figsize=(15,5))\n",
    "    plt.imshow(data[corner][i])\n",
    "    print(f'{corner} | {i}')\n",
    "    plt.axis('off')"
   ]
  },
  {
   "cell_type": "code",
   "execution_count": 47,
   "metadata": {},
   "outputs": [
    {
     "data": {
      "application/vnd.jupyter.widget-view+json": {
       "model_id": "abce59cbcd004d14a2b81ab378c122dc",
       "version_major": 2,
       "version_minor": 0
      },
      "text/plain": [
       "interactive(children=(Dropdown(description='Corner:', index=3, options=('L', 'R', 'T', 'B', 'center'), value='…"
      ]
     },
     "metadata": {},
     "output_type": "display_data"
    }
   ],
   "source": [
    "@interact(corner=widgets.Dropdown(options=keys,index=3,description='Corner:',disabled=False), i=widgets.IntSlider(min=0,max=5,step=1,description='Slider:',value=0))\n",
    "def g1(corner,i):\n",
    "    plt.figure(figsize=(15,5))\n",
    "    plt.imshow(data[corner][i])\n",
    "    print(f'{corner} | {i}')\n",
    "    plt.axis('off')"
   ]
  },
  {
   "cell_type": "code",
   "execution_count": null,
   "metadata": {},
   "outputs": [],
   "source": []
  },
  {
   "cell_type": "code",
   "execution_count": null,
   "metadata": {},
   "outputs": [],
   "source": []
  },
  {
   "cell_type": "code",
   "execution_count": null,
   "metadata": {},
   "outputs": [],
   "source": []
  }
 ],
 "metadata": {
  "kernelspec": {
   "display_name": "Python 3",
   "language": "python",
   "name": "python3"
  },
  "language_info": {
   "codemirror_mode": {
    "name": "ipython",
    "version": 3
   },
   "file_extension": ".py",
   "mimetype": "text/x-python",
   "name": "python",
   "nbconvert_exporter": "python",
   "pygments_lexer": "ipython3",
   "version": "3.7.7"
  }
 },
 "nbformat": 4,
 "nbformat_minor": 4
}
