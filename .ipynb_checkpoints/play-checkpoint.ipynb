{
 "cells": [
  {
   "cell_type": "code",
   "execution_count": 17,
   "id": "appropriate-creation",
   "metadata": {},
   "outputs": [],
   "source": [
    "import pickle\n",
    "import ants\n",
    "import os\n",
    "import numpy as np\n",
    "from matplotlib import pyplot as plt"
   ]
  },
  {
   "cell_type": "code",
   "execution_count": 13,
   "id": "informational-cornell",
   "metadata": {},
   "outputs": [],
   "source": [
    "keys = ['L','R','T','B','center']\n",
    "files = ['0.00.nii', '0.50.nii', '1.00.nii', '2.00.nii', '5.00.nii','10.00.nii']"
   ]
  },
  {
   "cell_type": "code",
   "execution_count": 19,
   "id": "tracked-sample",
   "metadata": {},
   "outputs": [
    {
     "data": {
      "text/plain": [
       "<matplotlib.image.AxesImage at 0x7ff62802ac90>"
      ]
     },
     "execution_count": 19,
     "metadata": {},
     "output_type": "execute_result"
    },
    {
     "data": {
      "image/png": "[encoded data removed]",
      "text/plain": [
       "<Figure size 432x288 with 1 Axes>"
      ]
     },
     "metadata": {
      "needs_background": "light"
     },
     "output_type": "display_data"
    }
   ],
   "source": [
    "nii = ants.image_read(os.path.join(keys[0],files[0]))\n",
    "im = nii.numpy()[:,:,32]\n",
    "im = np.rot90(im)\n",
    "plt.imshow(im,cmap='gray')"
   ]
  },
  {
   "cell_type": "code",
   "execution_count": 18,
   "id": "timely-tiger",
   "metadata": {},
   "outputs": [
    {
     "data": {
      "text/plain": [
       "array([[ 0.0000000e+00,  0.0000000e+00,  0.0000000e+00, ...,\n",
       "         1.3258241e-16, -3.7706627e-16,  0.0000000e+00],\n",
       "       [-3.3047039e-37,  1.5339746e-35, -6.7206806e-35, ...,\n",
       "         9.1294185e-16, -1.0188904e-15,  0.0000000e+00],\n",
       "       [-2.5972443e-21,  5.2968850e-20,  2.4111816e-20, ...,\n",
       "        -1.1042982e-14,  1.9468844e-14,  0.0000000e+00],\n",
       "       ...,\n",
       "       [-6.2079534e-17,  1.3341181e-16, -2.6364933e-16, ...,\n",
       "         0.0000000e+00,  0.0000000e+00,  0.0000000e+00],\n",
       "       [ 0.0000000e+00,  6.1832950e-18, -1.0941634e-17, ...,\n",
       "         0.0000000e+00,  0.0000000e+00,  0.0000000e+00],\n",
       "       [ 0.0000000e+00, -9.4198305e-19,  1.7836328e-18, ...,\n",
       "         0.0000000e+00,  0.0000000e+00,  0.0000000e+00]], dtype=float32)"
      ]
     },
     "execution_count": 18,
     "metadata": {},
     "output_type": "execute_result"
    }
   ],
   "source": []
  },
  {
   "cell_type": "code",
   "execution_count": null,
   "id": "therapeutic-glory",
   "metadata": {},
   "outputs": [],
   "source": []
  },
  {
   "cell_type": "code",
   "execution_count": null,
   "id": "copyrighted-sweden",
   "metadata": {},
   "outputs": [],
   "source": []
  }
 ],
 "metadata": {
  "kernelspec": {
   "display_name": "Python 3",
   "language": "python",
   "name": "python3"
  },
  "language_info": {
   "codemirror_mode": {
    "name": "ipython",
    "version": 3
   },
   "file_extension": ".py",
   "mimetype": "text/x-python",
   "name": "python",
   "nbconvert_exporter": "python",
   "pygments_lexer": "ipython3",
   "version": "3.7.7"
  }
 },
 "nbformat": 4,
 "nbformat_minor": 5
}
